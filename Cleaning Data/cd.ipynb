{
 "cells": [
  {
   "cell_type": "markdown",
   "id": "f088e6c6",
   "metadata": {},
   "source": [
    "### **PROJECT 3 PROPOSAL LEVEL 1**\n",
    "\n",
    "\n",
    "**Idea: Cleaning Data**\n",
    "\n",
    "\n",
    " **Description:**\n",
    "\n",
    "\n",
    "Data cleaning is the process of fixing or removing incorrect, corrupted, duplicate, or incomplete data within a dataset. Messy data leads to unreliable outcomes. Cleaning data is an essential part of data analysis, and demonstrating your data cleaning skills is key to landing a job. Here are some projects to test out your data cleaning skills:\n",
    "\n",
    "\n",
    " **Dataset:-** https://www.kaggle.com/datasets/dgomonov/new-york-city-airbnb-open-data\n",
    "\n",
    "\n",
    " **Key Concepts and Challenges:**\n",
    "\n",
    "\n",
    "1. Data Integrity: Ensuring the accuracy, consistency, and reliability of data throughout the cleaning process.\n",
    "\n",
    "\n",
    "2. Missing Data Handling: Dealing with missing values by either imputing them or making informed decisions on how to handle gaps in the dataset.\n",
    "\n",
    "\n",
    "3. Duplicate Removal: Identifying and eliminating duplicate records to maintain data uniqueness.\n",
    "\n",
    "\n",
    "4. Standardization: Consistent formatting and units across the dataset for accurate analysis.\n",
    "\n",
    "\n",
    "5. Outlier Detection: Identifying and addressing outliers that may skew analysis or model performance."
   ]
  },
  {
   "cell_type": "code",
   "execution_count": 14,
   "id": "7e1e367c",
   "metadata": {},
   "outputs": [],
   "source": [
    "# pip install pandas matplotlib seaborn\n",
    "\n",
    "import pandas as pd\n",
    "import matplotlib.pyplot as plt\n",
    "import seaborn as sns"
   ]
  },
  {
   "cell_type": "code",
   "execution_count": 15,
   "id": "5af98c5d",
   "metadata": {},
   "outputs": [],
   "source": [
    "# Load the AB_NYC_2019.csv dataset \n",
    "df = pd.read_csv(\"AB_NYC_2019.csv\") "
   ]
  },
  {
   "cell_type": "code",
   "execution_count": 16,
   "id": "26503b5e",
   "metadata": {},
   "outputs": [
    {
     "name": "stdout",
     "output_type": "stream",
     "text": [
      " Shape of Dataset: (48895, 16)\n",
      "\n",
      " Columns:\n",
      " ['id', 'name', 'host_id', 'host_name', 'neighbourhood_group', 'neighbourhood', 'latitude', 'longitude', 'room_type', 'price', 'minimum_nights', 'number_of_reviews', 'last_review', 'reviews_per_month', 'calculated_host_listings_count', 'availability_365']\n",
      "\n",
      " Missing Values:\n",
      " id                                    0\n",
      "name                                 16\n",
      "host_id                               0\n",
      "host_name                            21\n",
      "neighbourhood_group                   0\n",
      "neighbourhood                         0\n",
      "latitude                              0\n",
      "longitude                             0\n",
      "room_type                             0\n",
      "price                                 0\n",
      "minimum_nights                        0\n",
      "number_of_reviews                     0\n",
      "last_review                       10052\n",
      "reviews_per_month                 10052\n",
      "calculated_host_listings_count        0\n",
      "availability_365                      0\n",
      "dtype: int64\n",
      "\n",
      " Data Types:\n",
      " id                                  int64\n",
      "name                               object\n",
      "host_id                             int64\n",
      "host_name                          object\n",
      "neighbourhood_group                object\n",
      "neighbourhood                      object\n",
      "latitude                          float64\n",
      "longitude                         float64\n",
      "room_type                          object\n",
      "price                               int64\n",
      "minimum_nights                      int64\n",
      "number_of_reviews                   int64\n",
      "last_review                        object\n",
      "reviews_per_month                 float64\n",
      "calculated_host_listings_count      int64\n",
      "availability_365                    int64\n",
      "dtype: object\n",
      "\n",
      " Sample Data:\n",
      "      id                                              name  host_id  \\\n",
      "0  2539                Clean & quiet apt home by the park     2787   \n",
      "1  2595                             Skylit Midtown Castle     2845   \n",
      "2  3647               THE VILLAGE OF HARLEM....NEW YORK !     4632   \n",
      "3  3831                   Cozy Entire Floor of Brownstone     4869   \n",
      "4  5022  Entire Apt: Spacious Studio/Loft by central park     7192   \n",
      "\n",
      "     host_name neighbourhood_group neighbourhood  latitude  longitude  \\\n",
      "0         John            Brooklyn    Kensington  40.64749  -73.97237   \n",
      "1     Jennifer           Manhattan       Midtown  40.75362  -73.98377   \n",
      "2    Elisabeth           Manhattan        Harlem  40.80902  -73.94190   \n",
      "3  LisaRoxanne            Brooklyn  Clinton Hill  40.68514  -73.95976   \n",
      "4        Laura           Manhattan   East Harlem  40.79851  -73.94399   \n",
      "\n",
      "         room_type  price  minimum_nights  number_of_reviews last_review  \\\n",
      "0     Private room    149               1                  9  2018-10-19   \n",
      "1  Entire home/apt    225               1                 45  2019-05-21   \n",
      "2     Private room    150               3                  0         NaN   \n",
      "3  Entire home/apt     89               1                270  2019-07-05   \n",
      "4  Entire home/apt     80              10                  9  2018-11-19   \n",
      "\n",
      "   reviews_per_month  calculated_host_listings_count  availability_365  \n",
      "0               0.21                               6               365  \n",
      "1               0.38                               2               355  \n",
      "2                NaN                               1               365  \n",
      "3               4.64                               1               194  \n",
      "4               0.10                               1                 0  \n"
     ]
    }
   ],
   "source": [
    "# Initial Exploration\n",
    "print(\" Shape of Dataset:\", df.shape)\n",
    "print(\"\\n Columns:\\n\", df.columns.tolist())\n",
    "print(\"\\n Missing Values:\\n\", df.isnull().sum())\n",
    "print(\"\\n Data Types:\\n\", df.dtypes)\n",
    "print(\"\\n Sample Data:\\n\", df.head())"
   ]
  },
  {
   "cell_type": "code",
   "execution_count": 17,
   "id": "5c3394f2",
   "metadata": {},
   "outputs": [],
   "source": [
    "#  Handling Missing Data\n",
    "\n",
    "# Drop rows where 'name' or 'host_name' is missing\n",
    "df.dropna(subset=['name', 'host_name'], inplace=True)\n",
    "\n",
    "# Fill missing 'reviews_per_month' with 0\n",
    "df['reviews_per_month'].fillna(0, inplace=True)\n",
    "\n",
    "# Fill missing 'last_review' with placeholder or drop\n",
    "df['last_review'].fillna('Not Reviewed', inplace=True)"
   ]
  },
  {
   "cell_type": "code",
   "execution_count": 18,
   "id": "a575c2b1",
   "metadata": {},
   "outputs": [
    {
     "name": "stdout",
     "output_type": "stream",
     "text": [
      "\n",
      " Number of duplicate rows: 0\n"
     ]
    }
   ],
   "source": [
    "#  Removing Duplicates\n",
    "duplicates = df.duplicated().sum()\n",
    "print(f\"\\n Number of duplicate rows: {duplicates}\")\n",
    "df.drop_duplicates(inplace=True)"
   ]
  },
  {
   "cell_type": "code",
   "execution_count": 6,
   "id": "fd341805",
   "metadata": {},
   "outputs": [],
   "source": [
    "#  Standardizing Data\n",
    "\n",
    "# Standardize text columns\n",
    "df['neighbourhood_group'] = df['neighbourhood_group'].str.title().str.strip()\n",
    "df['neighbourhood'] = df['neighbourhood'].str.title().str.strip()\n",
    "df['room_type'] = df['room_type'].str.title().str.strip()\n",
    "\n",
    "# Fix types: convert 'last_review' to datetime\n",
    "df['last_review'] = pd.to_datetime(df['last_review'], errors='coerce')"
   ]
  },
  {
   "cell_type": "code",
   "execution_count": 7,
   "id": "e8ec169b",
   "metadata": {},
   "outputs": [],
   "source": [
    "#  Outlier Detection and Removal\n",
    "\n",
    "# Remove listings with price = 0 or unreasonably high\n",
    "df = df[(df['price'] > 0) & (df['price'] < 1000)]\n",
    "\n",
    "# Remove listings with very high minimum nights\n",
    "df = df[df['minimum_nights'] <= 365]"
   ]
  },
  {
   "cell_type": "code",
   "execution_count": 13,
   "id": "caa00b0b",
   "metadata": {},
   "outputs": [
    {
     "data": {
      "image/png": "[encoded data removed]",
      "text/plain": [
       "<Figure size 1000x400 with 1 Axes>"
      ]
     },
     "metadata": {},
     "output_type": "display_data"
    }
   ],
   "source": [
    "# Visualize Outliers \n",
    "plt.figure(figsize=(10, 4))\n",
    "sns.boxplot(x=df['price'])\n",
    "plt.xlim(0, 400)\n",
    "plt.title(\"Boxplot of Airbnb Prices\")\n",
    "plt.tight_layout()\n",
    "plt.show()"
   ]
  },
  {
   "cell_type": "code",
   "execution_count": 9,
   "id": "00ca2247",
   "metadata": {},
   "outputs": [
    {
     "name": "stdout",
     "output_type": "stream",
     "text": [
      "\n",
      " Final Dataset Shape: (48536, 16)\n",
      "\n",
      " Summary Statistics:\n",
      "                  id       host_id      latitude     longitude         price  \\\n",
      "count  4.853600e+04  4.853600e+04  48536.000000  48536.000000  48536.000000   \n",
      "mean   1.902895e+07  6.765573e+07     40.728919    -73.952030    140.285438   \n",
      "min    2.539000e+03  2.438000e+03     40.499790    -74.244420     10.000000   \n",
      "25%    9.479342e+06  7.831209e+06     40.689990    -73.982950     69.000000   \n",
      "50%    1.969114e+07  3.084914e+07     40.722960    -73.955580    105.000000   \n",
      "75%    2.915297e+07  1.074344e+08     40.763123    -73.936100    175.000000   \n",
      "max    3.648724e+07  2.743213e+08     40.913060    -73.712990    999.000000   \n",
      "std    1.097846e+07  7.862327e+07      0.054579      0.046164    112.927008   \n",
      "\n",
      "       minimum_nights  number_of_reviews                    last_review  \\\n",
      "count    48536.000000       48536.000000                          38668   \n",
      "mean         6.786818          23.376236  2018-10-04 20:57:31.412020224   \n",
      "min          1.000000           0.000000            2011-03-28 00:00:00   \n",
      "25%          1.000000           1.000000            2018-07-11 18:00:00   \n",
      "50%          3.000000           5.000000            2019-05-19 00:00:00   \n",
      "75%          5.000000          24.000000            2019-06-23 00:00:00   \n",
      "max        365.000000         629.000000            2019-07-08 00:00:00   \n",
      "std         16.134578          44.655820                            NaN   \n",
      "\n",
      "       reviews_per_month  calculated_host_listings_count  availability_365  \n",
      "count       48536.000000                    48536.000000      48536.000000  \n",
      "mean            1.095782                        7.174654        112.339459  \n",
      "min             0.000000                        1.000000          0.000000  \n",
      "25%             0.040000                        1.000000          0.000000  \n",
      "50%             0.380000                        1.000000         44.000000  \n",
      "75%             1.600000                        2.000000        225.000000  \n",
      "max            58.500000                      327.000000        365.000000  \n",
      "std             1.600005                       33.062574        131.344359  \n"
     ]
    }
   ],
   "source": [
    "#  Final Dataset Summary\n",
    "# -------------------------------------------------------------\n",
    "print(\"\\n Final Dataset Shape:\", df.shape)\n",
    "print(\"\\n Summary Statistics:\\n\", df.describe())"
   ]
  },
  {
   "cell_type": "code",
   "execution_count": 10,
   "id": "33d2ba9d",
   "metadata": {},
   "outputs": [],
   "source": [
    "# Save cleaned dataset\n",
    "df.to_csv('AB_NYC_2019_OUTPUT.csv', index=False)"
   ]
  }
 ],
 "metadata": {
  "kernelspec": {
   "display_name": "Python 3",
   "language": "python",
   "name": "python3"
  },
  "language_info": {
   "codemirror_mode": {
    "name": "ipython",
    "version": 3
   },
   "file_extension": ".py",
   "mimetype": "text/x-python",
   "name": "python",
   "nbconvert_exporter": "python",
   "pygments_lexer": "ipython3",
   "version": "3.12.3"
  }
 },
 "nbformat": 4,
 "nbformat_minor": 5
}
